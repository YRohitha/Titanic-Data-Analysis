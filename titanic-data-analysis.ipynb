{
 "cells": [
  {
   "cell_type": "code",
   "execution_count": 1,
   "id": "736d8099",
   "metadata": {
    "_cell_guid": "b1076dfc-b9ad-4769-8c92-a6c4dae69d19",
    "_uuid": "8f2839f25d086af736a60e9eeb907d3b93b6e0e5",
    "execution": {
     "iopub.execute_input": "2022-06-08T10:02:02.940638Z",
     "iopub.status.busy": "2022-06-08T10:02:02.940151Z",
     "iopub.status.idle": "2022-06-08T10:02:03.245162Z",
     "shell.execute_reply": "2022-06-08T10:02:03.243515Z"
    },
    "papermill": {
     "duration": 0.322336,
     "end_time": "2022-06-08T10:02:03.248368",
     "exception": false,
     "start_time": "2022-06-08T10:02:02.926032",
     "status": "completed"
    },
    "tags": []
   },
   "outputs": [
    {
     "name": "stdout",
     "output_type": "stream",
     "text": [
      "/kaggle/input/titanic/train.csv\n",
      "/kaggle/input/titanic/test.csv\n",
      "/kaggle/input/titanic/gender_submission.csv\n"
     ]
    }
   ],
   "source": [
    "# This Python 3 environment comes with many helpful analytics libraries installed\n",
    "# It is defined by the kaggle/python Docker image: https://github.com/kaggle/docker-python\n",
    "# For example, here's several helpful packages to load\n",
    "\n",
    "import numpy as np # linear algebra\n",
    "import pandas as pd # data processing, CSV file I/O (e.g. pd.read_csv)\n",
    "import matplotlib.pyplot as plt\n",
    "from statsmodels.graphics.mosaicplot import mosaic\n",
    "import warnings\n",
    "warnings.filterwarnings('ignore')\n",
    "%matplotlib inline\n",
    "\n",
    "# Input data files are available in the read-only \"../input/\" directory\n",
    "# For example, running this (by clicking run or pressing Shift+Enter) will list all files under the input directory\n",
    "\n",
    "import os\n",
    "for dirname, _, filenames in os.walk('/kaggle/input'):\n",
    "    for filename in filenames:\n",
    "        print(os.path.join(dirname, filename))\n",
    "\n",
    "# You can write up to 20GB to the current directory (/kaggle/working/) that gets preserved as output when you create a version using \"Save & Run All\" \n",
    "# You can also write temporary files to /kaggle/temp/, but they won't be saved outside of the current session"
   ]
  },
  {
   "cell_type": "markdown",
   "id": "d1d7cdc8",
   "metadata": {
    "papermill": {
     "duration": 0.009362,
     "end_time": "2022-06-08T10:02:03.268030",
     "exception": false,
     "start_time": "2022-06-08T10:02:03.258668",
     "status": "completed"
    },
    "tags": []
   },
   "source": [
    "The questions that we are going to explore are:\n",
    "\n",
    "* What is the survival rate of this disaster?\n",
    "* Are females more likely to survive males?\n",
    "* Is there a certain age group more likely to survive other age groups?\n",
    "* Are childern and mothers more likely to be survived than others?\n",
    "* Did people pay higher fare tend to survive?\n",
    "* Are there difference of survival rate between differnt ticket classes?\n",
    "* Who will more likely to survive, families or sigletons? \n",
    "\n",
    "After the exploratary data analysis with the above questions, we will conclude with summary of limitations and findings learning from this dataset."
   ]
  },
  {
   "cell_type": "code",
   "execution_count": 2,
   "id": "3be6fb36",
   "metadata": {
    "execution": {
     "iopub.execute_input": "2022-06-08T10:02:03.289402Z",
     "iopub.status.busy": "2022-06-08T10:02:03.288269Z",
     "iopub.status.idle": "2022-06-08T10:02:03.310650Z",
     "shell.execute_reply": "2022-06-08T10:02:03.308960Z"
    },
    "papermill": {
     "duration": 0.036032,
     "end_time": "2022-06-08T10:02:03.313591",
     "exception": false,
     "start_time": "2022-06-08T10:02:03.277559",
     "status": "completed"
    },
    "tags": []
   },
   "outputs": [
    {
     "name": "stdout",
     "output_type": "stream",
     "text": [
      "Number of data points:  891\n"
     ]
    }
   ],
   "source": [
    "data = pd.read_csv('/kaggle/input/titanic/train.csv')\n",
    "print(\"Number of data points: \",len(data))"
   ]
  },
  {
   "cell_type": "code",
   "execution_count": 3,
   "id": "5f298c99",
   "metadata": {
    "execution": {
     "iopub.execute_input": "2022-06-08T10:02:03.335613Z",
     "iopub.status.busy": "2022-06-08T10:02:03.334949Z",
     "iopub.status.idle": "2022-06-08T10:02:03.340315Z",
     "shell.execute_reply": "2022-06-08T10:02:03.339373Z"
    },
    "papermill": {
     "duration": 0.019084,
     "end_time": "2022-06-08T10:02:03.342517",
     "exception": false,
     "start_time": "2022-06-08T10:02:03.323433",
     "status": "completed"
    },
    "tags": []
   },
   "outputs": [
    {
     "name": "stdout",
     "output_type": "stream",
     "text": [
      "Data fields are:  Index(['PassengerId', 'Survived', 'Pclass', 'Name', 'Sex', 'Age', 'SibSp',\n",
      "       'Parch', 'Ticket', 'Fare', 'Cabin', 'Embarked'],\n",
      "      dtype='object')\n"
     ]
    }
   ],
   "source": [
    "print(\"Data fields are: \", data.columns) "
   ]
  },
  {
   "cell_type": "code",
   "execution_count": 4,
   "id": "08710ee5",
   "metadata": {
    "execution": {
     "iopub.execute_input": "2022-06-08T10:02:03.364704Z",
     "iopub.status.busy": "2022-06-08T10:02:03.364289Z",
     "iopub.status.idle": "2022-06-08T10:02:03.376775Z",
     "shell.execute_reply": "2022-06-08T10:02:03.375461Z"
    },
    "papermill": {
     "duration": 0.027304,
     "end_time": "2022-06-08T10:02:03.379678",
     "exception": false,
     "start_time": "2022-06-08T10:02:03.352374",
     "status": "completed"
    },
    "tags": []
   },
   "outputs": [
    {
     "name": "stdout",
     "output_type": "stream",
     "text": [
      "First rows of data:\n"
     ]
    },
    {
     "data": {
      "text/plain": [
       "PassengerId                          1\n",
       "Survived                             0\n",
       "Pclass                               3\n",
       "Name           Braund, Mr. Owen Harris\n",
       "Sex                               male\n",
       "Age                               22.0\n",
       "SibSp                                1\n",
       "Parch                                0\n",
       "Ticket                       A/5 21171\n",
       "Fare                              7.25\n",
       "Cabin                              NaN\n",
       "Embarked                             S\n",
       "Name: 0, dtype: object"
      ]
     },
     "execution_count": 4,
     "metadata": {},
     "output_type": "execute_result"
    }
   ],
   "source": [
    "print(\"First rows of data:\")\n",
    "data.iloc[0]"
   ]
  },
  {
   "cell_type": "markdown",
   "id": "3e6e540d",
   "metadata": {
    "papermill": {
     "duration": 0.009707,
     "end_time": "2022-06-08T10:02:03.399498",
     "exception": false,
     "start_time": "2022-06-08T10:02:03.389791",
     "status": "completed"
    },
    "tags": []
   },
   "source": [
    "**1. What is the survival rate?**\n",
    "\n",
    "To find the survival rate, we discretize the whole dataset into two categories, one is about people who survived and the other is people who did not. Only less than 40% passengers have survived."
   ]
  },
  {
   "cell_type": "code",
   "execution_count": 5,
   "id": "746aab01",
   "metadata": {
    "execution": {
     "iopub.execute_input": "2022-06-08T10:02:03.422428Z",
     "iopub.status.busy": "2022-06-08T10:02:03.421119Z",
     "iopub.status.idle": "2022-06-08T10:02:03.437396Z",
     "shell.execute_reply": "2022-06-08T10:02:03.435576Z"
    },
    "papermill": {
     "duration": 0.030093,
     "end_time": "2022-06-08T10:02:03.439855",
     "exception": false,
     "start_time": "2022-06-08T10:02:03.409762",
     "status": "completed"
    },
    "tags": []
   },
   "outputs": [
    {
     "name": "stdout",
     "output_type": "stream",
     "text": [
      "survival rate is: 0.3838383838383838\n"
     ]
    }
   ],
   "source": [
    "sur = data[data.Survived == 1]\n",
    "nsur = data[data.Survived == 0]\n",
    "print(\"survival rate is:\", len(sur) / float(len(data)))"
   ]
  },
  {
   "cell_type": "markdown",
   "id": "cc964b51",
   "metadata": {
    "papermill": {
     "duration": 0.009849,
     "end_time": "2022-06-08T10:02:03.459410",
     "exception": false,
     "start_time": "2022-06-08T10:02:03.449561",
     "status": "completed"
    },
    "tags": []
   },
   "source": [
    "Let's see what are the correlations between the column factors and whether people survived."
   ]
  },
  {
   "cell_type": "code",
   "execution_count": 6,
   "id": "98799c52",
   "metadata": {
    "execution": {
     "iopub.execute_input": "2022-06-08T10:02:03.481665Z",
     "iopub.status.busy": "2022-06-08T10:02:03.479982Z",
     "iopub.status.idle": "2022-06-08T10:02:03.491600Z",
     "shell.execute_reply": "2022-06-08T10:02:03.490668Z"
    },
    "papermill": {
     "duration": 0.025221,
     "end_time": "2022-06-08T10:02:03.494111",
     "exception": false,
     "start_time": "2022-06-08T10:02:03.468890",
     "status": "completed"
    },
    "tags": []
   },
   "outputs": [
    {
     "data": {
      "text/plain": [
       "PassengerId   -0.005007\n",
       "Survived       1.000000\n",
       "Pclass        -0.338481\n",
       "Age           -0.077221\n",
       "SibSp         -0.035322\n",
       "Parch          0.081629\n",
       "Fare           0.257307\n",
       "Name: Survived, dtype: float64"
      ]
     },
     "execution_count": 6,
     "metadata": {},
     "output_type": "execute_result"
    }
   ],
   "source": [
    "data.corr()[\"Survived\"]"
   ]
  },
  {
   "cell_type": "markdown",
   "id": "315b80bf",
   "metadata": {
    "papermill": {
     "duration": 0.010367,
     "end_time": "2022-06-08T10:02:03.515395",
     "exception": false,
     "start_time": "2022-06-08T10:02:03.505028",
     "status": "completed"
    },
    "tags": []
   },
   "source": [
    "Since the column 'Survived' is a binary variable, this correlation might not be able to reflect the true relationships. But from this correlation matrix, Pclass and Fare would be two important factors to investigate, which we will discuss later."
   ]
  },
  {
   "cell_type": "markdown",
   "id": "bc10395c",
   "metadata": {
    "papermill": {
     "duration": 0.010521,
     "end_time": "2022-06-08T10:02:03.536440",
     "exception": false,
     "start_time": "2022-06-08T10:02:03.525919",
     "status": "completed"
    },
    "tags": []
   },
   "source": [
    "**2. Are females more likely to survive than males?**\n",
    "\n",
    "Firstly, we create new dataframes that catogorize people based on gender. Then we look at the statistics of different groups."
   ]
  },
  {
   "cell_type": "code",
   "execution_count": 7,
   "id": "9cdbe1fb",
   "metadata": {
    "execution": {
     "iopub.execute_input": "2022-06-08T10:02:03.558886Z",
     "iopub.status.busy": "2022-06-08T10:02:03.558509Z",
     "iopub.status.idle": "2022-06-08T10:02:03.571198Z",
     "shell.execute_reply": "2022-06-08T10:02:03.569791Z"
    },
    "papermill": {
     "duration": 0.026427,
     "end_time": "2022-06-08T10:02:03.573676",
     "exception": false,
     "start_time": "2022-06-08T10:02:03.547249",
     "status": "completed"
    },
    "tags": []
   },
   "outputs": [],
   "source": [
    "female = data[data.Sex == 'female']  # number of females\n",
    "male = data[data.Sex == 'male']  # number of females\n",
    "fm_sur =  female[female.Survived == 1]  # survived females\n",
    "fm_not_sur = female[female.Survived == 0]  # non-survived males\n",
    "m_sur =  male[male.Survived == 1]  # survived males\n",
    "m_not_sur = male[male.Survived == 0]  # non-survived males"
   ]
  },
  {
   "cell_type": "code",
   "execution_count": 8,
   "id": "d328b0a8",
   "metadata": {
    "execution": {
     "iopub.execute_input": "2022-06-08T10:02:03.595709Z",
     "iopub.status.busy": "2022-06-08T10:02:03.595004Z",
     "iopub.status.idle": "2022-06-08T10:02:03.615413Z",
     "shell.execute_reply": "2022-06-08T10:02:03.614375Z"
    },
    "papermill": {
     "duration": 0.034074,
     "end_time": "2022-06-08T10:02:03.617600",
     "exception": false,
     "start_time": "2022-06-08T10:02:03.583526",
     "status": "completed"
    },
    "tags": []
   },
   "outputs": [
    {
     "data": {
      "text/html": [
       "<div>\n",
       "<style scoped>\n",
       "    .dataframe tbody tr th:only-of-type {\n",
       "        vertical-align: middle;\n",
       "    }\n",
       "\n",
       "    .dataframe tbody tr th {\n",
       "        vertical-align: top;\n",
       "    }\n",
       "\n",
       "    .dataframe thead th {\n",
       "        text-align: right;\n",
       "    }\n",
       "</style>\n",
       "<table border=\"1\" class=\"dataframe\">\n",
       "  <thead>\n",
       "    <tr style=\"text-align: right;\">\n",
       "      <th></th>\n",
       "      <th>Total</th>\n",
       "      <th>Survived</th>\n",
       "      <th>Not Survived</th>\n",
       "      <th>Survive rate</th>\n",
       "    </tr>\n",
       "  </thead>\n",
       "  <tbody>\n",
       "    <tr>\n",
       "      <th>female</th>\n",
       "      <td>314</td>\n",
       "      <td>233</td>\n",
       "      <td>81</td>\n",
       "      <td>0.742038</td>\n",
       "    </tr>\n",
       "    <tr>\n",
       "      <th>male</th>\n",
       "      <td>577</td>\n",
       "      <td>109</td>\n",
       "      <td>468</td>\n",
       "      <td>0.188908</td>\n",
       "    </tr>\n",
       "  </tbody>\n",
       "</table>\n",
       "</div>"
      ],
      "text/plain": [
       "        Total  Survived  Not Survived  Survive rate\n",
       "female    314       233            81      0.742038\n",
       "male      577       109           468      0.188908"
      ]
     },
     "execution_count": 8,
     "metadata": {},
     "output_type": "execute_result"
    }
   ],
   "source": [
    "d = {'Total':pd.Series([len(female),len(male)], index = ['female', 'male'] ),\\\n",
    "     'Survived' : (len(fm_sur), len(m_sur)),\\\n",
    "     'Not Survived': (len(fm_not_sur), len(m_not_sur)),\\\n",
    "     'Survive rate': (len(fm_sur)/float(len(female)) , len(m_sur)/float(len(male)))}\n",
    "pd.DataFrame(d)"
   ]
  },
  {
   "cell_type": "markdown",
   "id": "75a9ffb2",
   "metadata": {
    "papermill": {
     "duration": 0.009601,
     "end_time": "2022-06-08T10:02:03.637331",
     "exception": false,
     "start_time": "2022-06-08T10:02:03.627730",
     "status": "completed"
    },
    "tags": []
   },
   "source": [
    "From the table above, we can conclude that females are more likely to be survived because the survive rate is almost four times of that of males. Note that the total number of females are much less than that of the males, but the number of survivals are more than double that of males."
   ]
  },
  {
   "cell_type": "markdown",
   "id": "daf42895",
   "metadata": {
    "papermill": {
     "duration": 0.009542,
     "end_time": "2022-06-08T10:02:03.656700",
     "exception": false,
     "start_time": "2022-06-08T10:02:03.647158",
     "status": "completed"
    },
    "tags": []
   },
   "source": [
    "**3. Is there a certain age group more likely to survive other age groups?**\n",
    "\n",
    "There are 177 missing values in variable 'Age'. In this case, we simply filtered out the missing values for analysis as we could not infer from the other information to find what the missing value would be. The oldest people onboard is 80 years old."
   ]
  },
  {
   "cell_type": "code",
   "execution_count": 9,
   "id": "14d600d0",
   "metadata": {
    "execution": {
     "iopub.execute_input": "2022-06-08T10:02:03.678796Z",
     "iopub.status.busy": "2022-06-08T10:02:03.678305Z",
     "iopub.status.idle": "2022-06-08T10:02:03.685449Z",
     "shell.execute_reply": "2022-06-08T10:02:03.683991Z"
    },
    "papermill": {
     "duration": 0.02112,
     "end_time": "2022-06-08T10:02:03.687639",
     "exception": false,
     "start_time": "2022-06-08T10:02:03.666519",
     "status": "completed"
    },
    "tags": []
   },
   "outputs": [
    {
     "name": "stdout",
     "output_type": "stream",
     "text": [
      "Number of data points with Age information:  177\n"
     ]
    }
   ],
   "source": [
    "print(\"Number of data points with Age information: \", len(data) - len(data.Age.dropna()))"
   ]
  },
  {
   "cell_type": "code",
   "execution_count": 10,
   "id": "5be64bbd",
   "metadata": {
    "execution": {
     "iopub.execute_input": "2022-06-08T10:02:03.710892Z",
     "iopub.status.busy": "2022-06-08T10:02:03.710000Z",
     "iopub.status.idle": "2022-06-08T10:02:03.717015Z",
     "shell.execute_reply": "2022-06-08T10:02:03.715878Z"
    },
    "papermill": {
     "duration": 0.021216,
     "end_time": "2022-06-08T10:02:03.719063",
     "exception": false,
     "start_time": "2022-06-08T10:02:03.697847",
     "status": "completed"
    },
    "tags": []
   },
   "outputs": [
    {
     "name": "stdout",
     "output_type": "stream",
     "text": [
      "Maximum Age:  80.0\n"
     ]
    }
   ],
   "source": [
    "print(\"Maximum Age: \", max(data.Age.dropna()))"
   ]
  },
  {
   "cell_type": "markdown",
   "id": "fcec92c7",
   "metadata": {
    "papermill": {
     "duration": 0.010348,
     "end_time": "2022-06-08T10:02:03.739530",
     "exception": false,
     "start_time": "2022-06-08T10:02:03.729182",
     "status": "completed"
    },
    "tags": []
   },
   "source": [
    "We saw already that gender plays an important role to be a survivor, and females have higher survival rate than males. Let's group the survivors by sex and see how suverviors' age distribution compares to that of victims."
   ]
  },
  {
   "cell_type": "code",
   "execution_count": 11,
   "id": "3f0407b5",
   "metadata": {
    "execution": {
     "iopub.execute_input": "2022-06-08T10:02:03.762215Z",
     "iopub.status.busy": "2022-06-08T10:02:03.760846Z",
     "iopub.status.idle": "2022-06-08T10:02:04.663099Z",
     "shell.execute_reply": "2022-06-08T10:02:04.662137Z"
    },
    "papermill": {
     "duration": 0.916666,
     "end_time": "2022-06-08T10:02:04.666169",
     "exception": false,
     "start_time": "2022-06-08T10:02:03.749503",
     "status": "completed"
    },
    "tags": []
   },
   "outputs": [
    {
     "data": {
      "image/png": "[encoded data removed]",
      "text/plain": [
       "<Figure size 1080x360 with 2 Axes>"
      ]
     },
     "metadata": {
      "needs_background": "light"
     },
     "output_type": "display_data"
    }
   ],
   "source": [
    "bins = np.linspace(0, 80, 40)\n",
    "fig = plt.figure(figsize=(15, 5)) \n",
    "\n",
    "plt.subplot(1, 2, 1)\n",
    "plt.hist(fm_sur.Age.dropna(), bins, alpha=0.5, label='survived')\n",
    "plt.hist(fm_not_sur.Age.dropna(), bins, alpha=0.5, label='not survived')\n",
    "plt.xlabel('Age')\n",
    "plt.ylabel('Count')\n",
    "plt.title('female')\n",
    "plt.legend(loc='upper right')\n",
    "\n",
    "plt.subplot(1, 2, 2)\n",
    "plt.hist(m_sur.Age.dropna(), bins, alpha=0.5, label='survived')\n",
    "plt.hist(m_not_sur.Age.dropna(), bins, alpha=0.5, label='not survived')\n",
    "plt.xlabel('Age')\n",
    "plt.ylabel('Count')\n",
    "plt.title('male')\n",
    "plt.legend(loc='upper right')\n",
    "plt.show()"
   ]
  },
  {
   "cell_type": "markdown",
   "id": "5789b330",
   "metadata": {
    "papermill": {
     "duration": 0.010387,
     "end_time": "2022-06-08T10:02:04.690979",
     "exception": false,
     "start_time": "2022-06-08T10:02:04.680592",
     "status": "completed"
    },
    "tags": []
   },
   "source": [
    "Among both female and male victims we see spikes in age at mid twenties, with small bumps at at early thirties and mid thirties for females. These passengers must be the most brave ones who are willing to sacrifice themselves to save others. Female victims have almost uniform distitrbution among certain age groups, such as ten, early twenties, mid twenties, and early thirties, etc. Male victims' age seems to fall along a bell-shaped distribution peaking at early thirties, except that lots of male kids died in this disaster."
   ]
  },
  {
   "cell_type": "markdown",
   "id": "2b98d2ce",
   "metadata": {
    "papermill": {
     "duration": 0.010818,
     "end_time": "2022-06-08T10:02:04.712473",
     "exception": false,
     "start_time": "2022-06-08T10:02:04.701655",
     "status": "completed"
    },
    "tags": []
   },
   "source": [
    "**4. Are childern and mothers more likely to be survived than others?**\n",
    "\n",
    "Based on the information available, we define a child as a person under 18 years old and a mother is a person who is \n",
    "\n",
    "    1) a female, \n",
    "    \n",
    "    2) over 18, \n",
    "    \n",
    "    3) does not have the title ‘Miss’ and \n",
    "    \n",
    "    4) has more than 0 children onboard."
   ]
  },
  {
   "cell_type": "code",
   "execution_count": 12,
   "id": "c12b62b5",
   "metadata": {
    "execution": {
     "iopub.execute_input": "2022-06-08T10:02:04.735114Z",
     "iopub.status.busy": "2022-06-08T10:02:04.734728Z",
     "iopub.status.idle": "2022-06-08T10:02:04.747785Z",
     "shell.execute_reply": "2022-06-08T10:02:04.746621Z"
    },
    "papermill": {
     "duration": 0.027002,
     "end_time": "2022-06-08T10:02:04.749872",
     "exception": false,
     "start_time": "2022-06-08T10:02:04.722870",
     "status": "completed"
    },
    "tags": []
   },
   "outputs": [],
   "source": [
    "child = data.loc[(data.Parch > 0) & (data.Age < 18)]\n",
    "data['Title'] = data.Name.apply(lambda x: x[x.find(', ') +2 : x.find('.')])\n",
    "mother = data.loc[(data.Sex == 'female') & (data.Parch > 0) & (data.Age > 18) & (data.Title != 'Miss')]"
   ]
  },
  {
   "cell_type": "code",
   "execution_count": 13,
   "id": "e27fc9a9",
   "metadata": {
    "execution": {
     "iopub.execute_input": "2022-06-08T10:02:04.773109Z",
     "iopub.status.busy": "2022-06-08T10:02:04.772472Z",
     "iopub.status.idle": "2022-06-08T10:02:04.790043Z",
     "shell.execute_reply": "2022-06-08T10:02:04.789133Z"
    },
    "papermill": {
     "duration": 0.032324,
     "end_time": "2022-06-08T10:02:04.792578",
     "exception": false,
     "start_time": "2022-06-08T10:02:04.760254",
     "status": "completed"
    },
    "tags": []
   },
   "outputs": [
    {
     "data": {
      "text/html": [
       "<div>\n",
       "<style scoped>\n",
       "    .dataframe tbody tr th:only-of-type {\n",
       "        vertical-align: middle;\n",
       "    }\n",
       "\n",
       "    .dataframe tbody tr th {\n",
       "        vertical-align: top;\n",
       "    }\n",
       "\n",
       "    .dataframe thead th {\n",
       "        text-align: right;\n",
       "    }\n",
       "</style>\n",
       "<table border=\"1\" class=\"dataframe\">\n",
       "  <thead>\n",
       "    <tr style=\"text-align: right;\">\n",
       "      <th></th>\n",
       "      <th>Total</th>\n",
       "      <th>Survived</th>\n",
       "      <th>Not Survived</th>\n",
       "      <th>Survival rate</th>\n",
       "    </tr>\n",
       "  </thead>\n",
       "  <tbody>\n",
       "    <tr>\n",
       "      <th>child</th>\n",
       "      <td>81</td>\n",
       "      <td>45</td>\n",
       "      <td>36</td>\n",
       "      <td>0.555556</td>\n",
       "    </tr>\n",
       "    <tr>\n",
       "      <th>mother</th>\n",
       "      <td>52</td>\n",
       "      <td>37</td>\n",
       "      <td>15</td>\n",
       "      <td>0.711538</td>\n",
       "    </tr>\n",
       "  </tbody>\n",
       "</table>\n",
       "</div>"
      ],
      "text/plain": [
       "        Total  Survived  Not Survived  Survival rate\n",
       "child      81        45            36       0.555556\n",
       "mother     52        37            15       0.711538"
      ]
     },
     "execution_count": 13,
     "metadata": {},
     "output_type": "execute_result"
    }
   ],
   "source": [
    "d = {'Total':pd.Series([len(child),len(mother)], index = ['child', 'mother'] ),\\\n",
    "     'Survived' : (len(child[child.Survived == 1]), len(mother[mother.Survived == 1])),\\\n",
    "     'Not Survived': (len(child[child.Survived == 0]), len(mother[mother.Survived == 0])),\\\n",
    "     'Survival rate': (len(child[child.Survived == 1])/float(len(child)) , \\\n",
    "                      len(mother[mother.Survived == 1])/float(len(mother)))}\n",
    "pd.DataFrame(d)"
   ]
  },
  {
   "cell_type": "markdown",
   "id": "265839f1",
   "metadata": {
    "papermill": {
     "duration": 0.01096,
     "end_time": "2022-06-08T10:02:04.815856",
     "exception": false,
     "start_time": "2022-06-08T10:02:04.804896",
     "status": "completed"
    },
    "tags": []
   },
   "source": [
    "This table above makes it pretty clear that mothers have much higher survivor rate than others. Being a child does not hurt, as more than half of kids have survived."
   ]
  },
  {
   "cell_type": "markdown",
   "id": "4252af7e",
   "metadata": {
    "papermill": {
     "duration": 0.011358,
     "end_time": "2022-06-08T10:02:04.838474",
     "exception": false,
     "start_time": "2022-06-08T10:02:04.827116",
     "status": "completed"
    },
    "tags": []
   },
   "source": [
    "**5. Did people pay higher fare tend to survive?**\n",
    "\n",
    "Let's examine whether there is a difference between the fare survivors paid and that victims paid."
   ]
  },
  {
   "cell_type": "code",
   "execution_count": 14,
   "id": "625c4653",
   "metadata": {
    "execution": {
     "iopub.execute_input": "2022-06-08T10:02:04.864861Z",
     "iopub.status.busy": "2022-06-08T10:02:04.864470Z",
     "iopub.status.idle": "2022-06-08T10:02:05.767583Z",
     "shell.execute_reply": "2022-06-08T10:02:05.766597Z"
    },
    "papermill": {
     "duration": 0.91908,
     "end_time": "2022-06-08T10:02:05.770189",
     "exception": false,
     "start_time": "2022-06-08T10:02:04.851109",
     "status": "completed"
    },
    "tags": []
   },
   "outputs": [
    {
     "data": {
      "image/png": "[encoded data removed]",
      "text/plain": [
       "<Figure size 576x360 with 1 Axes>"
      ]
     },
     "metadata": {
      "needs_background": "light"
     },
     "output_type": "display_data"
    }
   ],
   "source": [
    "from scipy.stats import gaussian_kde\n",
    "density1 = gaussian_kde(sur.Fare)\n",
    "density2 = gaussian_kde(nsur.Fare)\n",
    "\n",
    "fig = plt.figure(figsize=(8, 5)) \n",
    "xs = np.linspace(0,200,200)\n",
    "plt.plot(xs,density1(xs),label = 'survived')\n",
    "plt.plot(xs,density2(xs),label = 'not survived')\n",
    "plt.xlabel('Fare')\n",
    "plt.ylabel('Density')\n",
    "plt.title('Fare')\n",
    "plt.legend(loc='upper right')\n",
    "plt.show()"
   ]
  },
  {
   "cell_type": "markdown",
   "id": "30108c05",
   "metadata": {
    "papermill": {
     "duration": 0.011873,
     "end_time": "2022-06-08T10:02:05.794905",
     "exception": false,
     "start_time": "2022-06-08T10:02:05.783032",
     "status": "completed"
    },
    "tags": []
   },
   "source": [
    "The above graph shows that most passengers have paid 15 - 20 £ for tickets. The most common survivors have paid 20 £ while the most common victims's fare is a little lower, which is around 15 £. Interestingly, there are higher chances for passenger to survive if they paid more than 30 £. We already saw the patterns of age among survivors and victims, we are interested in whether there are patterns to look at both fare and age."
   ]
  },
  {
   "cell_type": "code",
   "execution_count": 15,
   "id": "ae09fb7a",
   "metadata": {
    "execution": {
     "iopub.execute_input": "2022-06-08T10:02:05.824428Z",
     "iopub.status.busy": "2022-06-08T10:02:05.823277Z",
     "iopub.status.idle": "2022-06-08T10:02:06.145723Z",
     "shell.execute_reply": "2022-06-08T10:02:06.144748Z"
    },
    "papermill": {
     "duration": 0.340142,
     "end_time": "2022-06-08T10:02:06.148693",
     "exception": false,
     "start_time": "2022-06-08T10:02:05.808551",
     "status": "completed"
    },
    "tags": []
   },
   "outputs": [
    {
     "data": {
      "image/png": "[encoded data removed]",
      "text/plain": [
       "<Figure size 1080x360 with 2 Axes>"
      ]
     },
     "metadata": {
      "needs_background": "light"
     },
     "output_type": "display_data"
    }
   ],
   "source": [
    "fig = plt.figure(figsize=(15, 5)) \n",
    "\n",
    "plt.subplot(1, 2, 1)\n",
    "plt.scatter(sur.Age , sur.Fare ,s=20, c= 'blue',marker='o', alpha = 0.3,label = 'Survived');\n",
    "plt.xlabel(\"Age\")\n",
    "plt.ylabel('Fare')\n",
    "plt.title('Survived')\n",
    "plt.yticks(range(0,650,100))\n",
    "\n",
    "plt.subplot(1, 2, 2)\n",
    "plt.scatter(nsur.Age , nsur.Fare ,s=20, c= 'red',marker='o', alpha = 0.3,label = 'Unsurvived');\n",
    "plt.xlabel(\"Age\")\n",
    "plt.ylabel('Fare')\n",
    "plt.title('Unsurvived')\n",
    "plt.yticks(range(0,650,100))\n",
    "plt.show()"
   ]
  },
  {
   "cell_type": "markdown",
   "id": "db58df9b",
   "metadata": {
    "papermill": {
     "duration": 0.011887,
     "end_time": "2022-06-08T10:02:06.173149",
     "exception": false,
     "start_time": "2022-06-08T10:02:06.161262",
     "status": "completed"
    },
    "tags": []
   },
   "source": [
    "Both survivors and victims cluster around age group twenties to thirties. It is also clear that kid under 10 years old are more likely to be survived. In addition, the fares that survivors paid are more spread while fares that victims paid are more aggregated at lower prices, this confirmed our observation before that people who paied more are more likely to be survived. In fact, the highest fare that non survivors paid is a around 270 £, while passagers who paid more than that are all survived."
   ]
  },
  {
   "cell_type": "markdown",
   "id": "54dc2ffb",
   "metadata": {
    "papermill": {
     "duration": 0.012657,
     "end_time": "2022-06-08T10:02:06.198761",
     "exception": false,
     "start_time": "2022-06-08T10:02:06.186104",
     "status": "completed"
    },
    "tags": []
   },
   "source": [
    "**6. Are there difference of survival rate between different ticket classes?**\n",
    "\n",
    "It is known that Titanic carried some of the wealthiest people in the world, and we alreay knew that people who paid more are more likely to be survived from the above analysis. It is thus interesting to know the difference of survival rate between difference ticket classes."
   ]
  },
  {
   "cell_type": "code",
   "execution_count": 16,
   "id": "83777962",
   "metadata": {
    "execution": {
     "iopub.execute_input": "2022-06-08T10:02:06.225719Z",
     "iopub.status.busy": "2022-06-08T10:02:06.224729Z",
     "iopub.status.idle": "2022-06-08T10:02:06.242925Z",
     "shell.execute_reply": "2022-06-08T10:02:06.241912Z"
    },
    "papermill": {
     "duration": 0.034258,
     "end_time": "2022-06-08T10:02:06.245334",
     "exception": false,
     "start_time": "2022-06-08T10:02:06.211076",
     "status": "completed"
    },
    "tags": []
   },
   "outputs": [],
   "source": [
    "pclass = pd.concat([pd.DataFrame(data.Pclass.value_counts()),\\\n",
    "                    pd.DataFrame(sur.Pclass.value_counts()), \\\n",
    "                    pd.DataFrame(nsur.Pclass.value_counts())],axis = 1).reset_index()\n",
    "pclass.columns = ['class','total','survived','non_survived']"
   ]
  },
  {
   "cell_type": "code",
   "execution_count": 17,
   "id": "c528e1d5",
   "metadata": {
    "execution": {
     "iopub.execute_input": "2022-06-08T10:02:06.272223Z",
     "iopub.status.busy": "2022-06-08T10:02:06.271020Z",
     "iopub.status.idle": "2022-06-08T10:02:06.284528Z",
     "shell.execute_reply": "2022-06-08T10:02:06.283477Z"
    },
    "papermill": {
     "duration": 0.028949,
     "end_time": "2022-06-08T10:02:06.286529",
     "exception": false,
     "start_time": "2022-06-08T10:02:06.257580",
     "status": "completed"
    },
    "tags": []
   },
   "outputs": [
    {
     "data": {
      "text/html": [
       "<div>\n",
       "<style scoped>\n",
       "    .dataframe tbody tr th:only-of-type {\n",
       "        vertical-align: middle;\n",
       "    }\n",
       "\n",
       "    .dataframe tbody tr th {\n",
       "        vertical-align: top;\n",
       "    }\n",
       "\n",
       "    .dataframe thead th {\n",
       "        text-align: right;\n",
       "    }\n",
       "</style>\n",
       "<table border=\"1\" class=\"dataframe\">\n",
       "  <thead>\n",
       "    <tr style=\"text-align: right;\">\n",
       "      <th></th>\n",
       "      <th>class</th>\n",
       "      <th>total</th>\n",
       "      <th>survived</th>\n",
       "      <th>non_survived</th>\n",
       "      <th>survival_rate</th>\n",
       "    </tr>\n",
       "  </thead>\n",
       "  <tbody>\n",
       "    <tr>\n",
       "      <th>0</th>\n",
       "      <td>1</td>\n",
       "      <td>216</td>\n",
       "      <td>136</td>\n",
       "      <td>80</td>\n",
       "      <td>0.629630</td>\n",
       "    </tr>\n",
       "    <tr>\n",
       "      <th>1</th>\n",
       "      <td>2</td>\n",
       "      <td>184</td>\n",
       "      <td>87</td>\n",
       "      <td>97</td>\n",
       "      <td>0.472826</td>\n",
       "    </tr>\n",
       "    <tr>\n",
       "      <th>2</th>\n",
       "      <td>3</td>\n",
       "      <td>491</td>\n",
       "      <td>119</td>\n",
       "      <td>372</td>\n",
       "      <td>0.242363</td>\n",
       "    </tr>\n",
       "  </tbody>\n",
       "</table>\n",
       "</div>"
      ],
      "text/plain": [
       "   class  total  survived  non_survived  survival_rate\n",
       "0      1    216       136            80       0.629630\n",
       "1      2    184        87            97       0.472826\n",
       "2      3    491       119           372       0.242363"
      ]
     },
     "execution_count": 17,
     "metadata": {},
     "output_type": "execute_result"
    }
   ],
   "source": [
    "pclass['survival_rate'] = pclass.survived / pclass.total\n",
    "pclass"
   ]
  },
  {
   "cell_type": "markdown",
   "id": "51296b9c",
   "metadata": {
    "papermill": {
     "duration": 0.012274,
     "end_time": "2022-06-08T10:02:06.311446",
     "exception": false,
     "start_time": "2022-06-08T10:02:06.299172",
     "status": "completed"
    },
    "tags": []
   },
   "source": [
    "Therefore, first class passengers got priority to be saved when facing disasters. The survival rate is highest among first class passengers while passengers from third ticket class suffer from much lower survival rate."
   ]
  },
  {
   "cell_type": "markdown",
   "id": "3c41630d",
   "metadata": {
    "papermill": {
     "duration": 0.012045,
     "end_time": "2022-06-08T10:02:06.335897",
     "exception": false,
     "start_time": "2022-06-08T10:02:06.323852",
     "status": "completed"
    },
    "tags": []
   },
   "source": [
    "**7. who will more likely to survive, families or sigletons?**\n",
    "\n",
    "The last question we want to look at is whether sigletons are more likely to survive than people have families on board. First, we’re going to make a family size variable based on number of siblings/spouse(s) and number of children/parents."
   ]
  },
  {
   "cell_type": "code",
   "execution_count": 18,
   "id": "21cf7dac",
   "metadata": {
    "execution": {
     "iopub.execute_input": "2022-06-08T10:02:06.362555Z",
     "iopub.status.busy": "2022-06-08T10:02:06.361376Z",
     "iopub.status.idle": "2022-06-08T10:02:06.370653Z",
     "shell.execute_reply": "2022-06-08T10:02:06.369645Z"
    },
    "papermill": {
     "duration": 0.02525,
     "end_time": "2022-06-08T10:02:06.373173",
     "exception": false,
     "start_time": "2022-06-08T10:02:06.347923",
     "status": "completed"
    },
    "tags": []
   },
   "outputs": [],
   "source": [
    "sur.loc[:,'family'] = sur.loc[:,'Parch'] + sur.loc[:,'SibSp']\n",
    "nsur.loc[:,'family'] = nsur.loc[:,'Parch'] + nsur.loc[:,'SibSp']"
   ]
  },
  {
   "cell_type": "code",
   "execution_count": 19,
   "id": "27f8f343",
   "metadata": {
    "execution": {
     "iopub.execute_input": "2022-06-08T10:02:06.400077Z",
     "iopub.status.busy": "2022-06-08T10:02:06.399088Z",
     "iopub.status.idle": "2022-06-08T10:02:06.821632Z",
     "shell.execute_reply": "2022-06-08T10:02:06.820870Z"
    },
    "papermill": {
     "duration": 0.438546,
     "end_time": "2022-06-08T10:02:06.823911",
     "exception": false,
     "start_time": "2022-06-08T10:02:06.385365",
     "status": "completed"
    },
    "tags": []
   },
   "outputs": [
    {
     "data": {
      "image/png": "[encoded data removed]",
      "text/plain": [
       "<Figure size 1080x360 with 2 Axes>"
      ]
     },
     "metadata": {
      "needs_background": "light"
     },
     "output_type": "display_data"
    }
   ],
   "source": [
    "fig = plt.figure(figsize=(15, 5)) \n",
    "bins = np.linspace(0,10,11)\n",
    "\n",
    "plt.subplot(1, 2, 1)\n",
    "plt.hist((sur['family'], nsur['family']), bins, label = (\"survived\", \"not survived\"))\n",
    "plt.xlabel('Family members')\n",
    "plt.ylabel('Count')\n",
    "plt.xticks(range(11))\n",
    "plt.title('Singleton vs. Family')\n",
    "plt.legend(loc='upper right')\n",
    "\n",
    "bins2 = np.linspace(1,10,10)\n",
    "plt.subplot(1, 2, 2)\n",
    "plt.hist((sur[sur.family >= 1].family, nsur[nsur.family >= 1].family), bins2, label = (\"survived\", \"not survived\"))\n",
    "plt.xlabel('Family members')\n",
    "plt.ylabel('Count')\n",
    "plt.title('Family size')\n",
    "plt.xticks(range(1,11))\n",
    "plt.legend(loc='upper right')\n",
    "plt.show()"
   ]
  },
  {
   "cell_type": "markdown",
   "id": "25ca800c",
   "metadata": {
    "papermill": {
     "duration": 0.012546,
     "end_time": "2022-06-08T10:02:06.850014",
     "exception": false,
     "start_time": "2022-06-08T10:02:06.837468",
     "status": "completed"
    },
    "tags": []
   },
   "source": [
    "The chart on the left shows that the most common victims are sigletons. More than half sigletons are victims. The figure on the right examines people who has families a little closer: people who have small families, such as families with two to four family members are more likely to survive, while people who have large families, meaning more than five members are more likely to be victims. To summarize, there’s a survival penalty among singletons and large families, but a benefit for customers in small families."
   ]
  },
  {
   "cell_type": "markdown",
   "id": "2e59133a",
   "metadata": {
    "papermill": {
     "duration": 0.014092,
     "end_time": "2022-06-08T10:02:06.877046",
     "exception": false,
     "start_time": "2022-06-08T10:02:06.862954",
     "status": "completed"
    },
    "tags": []
   },
   "source": [
    "**Conclusion**\n",
    "This analysis is limited by the sample size of the data and the available information of each passagers. We have a total of 891 data points, but 177 of them do not have age information. Despite the data limitations, we gained some insights from analyzing this dataset:\n",
    "\n",
    "* Some groups of people were more likely to survive than others, such as women, children, and the upper-class.\n",
    "* There is a survival penalty among people who are in their mid twenties and early thirties.\n",
    "* Singletons and large families are more likely to be victims, while passengers in small families are more likely to survive."
   ]
  }
 ],
 "metadata": {
  "kernelspec": {
   "display_name": "Python 3",
   "language": "python",
   "name": "python3"
  },
  "language_info": {
   "codemirror_mode": {
    "name": "ipython",
    "version": 3
   },
   "file_extension": ".py",
   "mimetype": "text/x-python",
   "name": "python",
   "nbconvert_exporter": "python",
   "pygments_lexer": "ipython3",
   "version": "3.7.12"
  },
  "papermill": {
   "default_parameters": {},
   "duration": 15.214316,
   "end_time": "2022-06-08T10:02:07.815804",
   "environment_variables": {},
   "exception": null,
   "input_path": "__notebook__.ipynb",
   "output_path": "__notebook__.ipynb",
   "parameters": {},
   "start_time": "2022-06-08T10:01:52.601488",
   "version": "2.3.4"
  }
 },
 "nbformat": 4,
 "nbformat_minor": 5
}
